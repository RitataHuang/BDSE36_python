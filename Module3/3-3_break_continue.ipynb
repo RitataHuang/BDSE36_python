{
 "cells": [
  {
   "cell_type": "markdown",
   "metadata": {},
   "source": [
    "##### break"
   ]
  },
  {
   "cell_type": "code",
   "execution_count": null,
   "metadata": {},
   "outputs": [
    {
     "name": "stdout",
     "output_type": "stream",
     "text": [
      "H\n",
      "e\n"
     ]
    }
   ],
   "source": [
    "'''\n",
    "當偵測到字母 t 時，就會強制結束迴圈\n",
    "'''\n",
    "message = \"Hello\"\n",
    "for char in message:\n",
    "    if char == \"l\":\n",
    "        break # 一遇到break，就強制結束，不論剩多少迴圈\n",
    "    print(char)\n"
   ]
  },
  {
   "cell_type": "code",
   "execution_count": 4,
   "metadata": {},
   "outputs": [
    {
     "name": "stdout",
     "output_type": "stream",
     "text": [
      "21\n"
     ]
    }
   ],
   "source": [
    "num = 10\n",
    "\n",
    "while True:\n",
    "    num += 1\n",
    "    if num > 20:\n",
    "        break\n",
    "\n",
    "print(num)"
   ]
  },
  {
   "cell_type": "markdown",
   "metadata": {},
   "source": [
    "##### continue"
   ]
  },
  {
   "cell_type": "code",
   "execution_count": null,
   "metadata": {},
   "outputs": [],
   "source": [
    "'''\n",
    "當偵測到字母 t 時，\n",
    "會跳過本次迴圈剩下的程式碼 print(char)，\n",
    "但不會結束迴圈，仍然會進入下一圈繼續執行\n",
    "'''\n",
    "for char in \"content\":\n",
    "    if char == \"t\":\n",
    "        continue\n",
    "    print(char, end=\"\")\n",
    "\n"
   ]
  },
  {
   "cell_type": "markdown",
   "metadata": {},
   "source": [
    "### 小試身手\n",
    "計算 1 到 100 之間的和，如果值超過500就停止執行"
   ]
  },
  {
   "cell_type": "code",
   "execution_count": null,
   "metadata": {},
   "outputs": [
    {
     "name": "stdout",
     "output_type": "stream",
     "text": [
      "502\n"
     ]
    }
   ],
   "source": [
    "sum = 0\n",
    "for i in range(0,101):\n",
    "    sum += sum + i\n",
    "    if sum >= 500:\n",
    "        break\n",
    "\n",
    "print(sum)\n",
    "\n",
    "\n"
   ]
  },
  {
   "cell_type": "markdown",
   "metadata": {},
   "source": [
    "計算 1 到 100 之間的奇數之和，但要跳過所有被 5 整除的數"
   ]
  },
  {
   "cell_type": "code",
   "execution_count": null,
   "metadata": {},
   "outputs": [
    {
     "name": "stdout",
     "output_type": "stream",
     "text": [
      "1\n",
      "3\n",
      "7\n",
      "9\n",
      "11\n",
      "13\n",
      "17\n",
      "19\n",
      "21\n",
      "23\n",
      "27\n",
      "29\n",
      "31\n",
      "33\n",
      "37\n",
      "39\n",
      "41\n",
      "43\n",
      "47\n",
      "49\n",
      "51\n",
      "53\n",
      "57\n",
      "59\n",
      "61\n",
      "63\n",
      "67\n",
      "69\n",
      "71\n",
      "73\n",
      "77\n",
      "79\n",
      "81\n",
      "83\n",
      "87\n",
      "89\n",
      "91\n",
      "93\n",
      "97\n",
      "99\n",
      "2000\n"
     ]
    }
   ],
   "source": [
    "sum = 0\n",
    "for i in range(0,101):\n",
    "    if i%2==0 or i%5==0:\n",
    "        continue\n",
    "    # print(i)\n",
    "    sum += i\n",
    "\n",
    "print(sum)"
   ]
  }
 ],
 "metadata": {
  "kernelspec": {
   "display_name": "Python 3",
   "language": "python",
   "name": "python3"
  },
  "language_info": {
   "codemirror_mode": {
    "name": "ipython",
    "version": 3
   },
   "file_extension": ".py",
   "mimetype": "text/x-python",
   "name": "python",
   "nbconvert_exporter": "python",
   "pygments_lexer": "ipython3",
   "version": "3.13.0"
  }
 },
 "nbformat": 4,
 "nbformat_minor": 2
}
